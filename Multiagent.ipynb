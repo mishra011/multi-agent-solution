{
 "cells": [
  {
   "cell_type": "code",
   "execution_count": 1,
   "id": "e6f54978-5832-40c6-a5be-764b4b4197ac",
   "metadata": {},
   "outputs": [],
   "source": [
    "import os\n",
    "\n",
    "\n",
    "from dotenv import load_dotenv\n",
    "load_dotenv()\n",
    "\n",
    "#from langchain_openai import AzureChatOpenAI\n",
    "from langchain.chat_models import ChatOpenAI"
   ]
  },
  {
   "cell_type": "code",
   "execution_count": 3,
   "id": "3cac08eb-b4b4-4570-91bf-1af7ee6f74b0",
   "metadata": {},
   "outputs": [],
   "source": [
    "from datetime import datetime, timedelta\n",
    "from typing import List\n",
    "import math\n",
    "import faiss\n",
    "import logging\n",
    "logging.basicConfig(level=logging.ERROR)\n",
    "from langchain.docstore import InMemoryDocstore\n",
    "#from langchain_openai import AzureOpenAIEmbeddings\n",
    "from langchain_community.embeddings import OpenAIEmbeddings"
   ]
  },
  {
   "cell_type": "code",
   "execution_count": 4,
   "id": "d79016fb-3b7c-4824-98b5-072a22f7cfe1",
   "metadata": {},
   "outputs": [],
   "source": [
    "from langchain.retrievers import TimeWeightedVectorStoreRetriever\n",
    "from langchain.vectorstores import FAISS\n",
    "\n",
    "from langchain_experimental.generative_agents import GenerativeAgent, GenerativeAgentMemory\n"
   ]
  },
  {
   "cell_type": "code",
   "execution_count": 5,
   "id": "dff7c3db-91d3-4afe-9ec2-b374ec4806f6",
   "metadata": {},
   "outputs": [],
   "source": [
    "USER_NAME = \"Deepak\""
   ]
  },
  {
   "cell_type": "code",
   "execution_count": 6,
   "id": "fc1f67b5-184d-4979-b3e3-7632eb132a8f",
   "metadata": {},
   "outputs": [
    {
     "name": "stderr",
     "output_type": "stream",
     "text": [
      "/home/oem/workspace/envs/langchain-env/lib/python3.10/site-packages/langchain_core/_api/deprecation.py:119: LangChainDeprecationWarning: The class `ChatOpenAI` was deprecated in LangChain 0.0.10 and will be removed in 0.3.0. An updated version of the class exists in the langchain-openai package and should be used instead. To use it run `pip install -U langchain-openai` and import as `from langchain_openai import ChatOpenAI`.\n",
      "  warn_deprecated(\n"
     ]
    }
   ],
   "source": [
    "# llm = AzureChatOpenAI(deployment_name=os.getenv(\"AZURE_DEP_NAME\"),\n",
    "#                          openai_api_version=os.getenv(\"AZURE_VERSION\"),\n",
    "#                           openai_api_key=os.getenv(\"AZURE_KEY\"),\n",
    "#                            azure_endpoint=os.getenv(\"AZURE_ENDPOINT\"),\n",
    "#                      max_tokens=1500)\n",
    "\n",
    "os.environ[\"OPENAI_API_KEY\"] = os.getenv(\"OPENAI_API_KEY\")\n",
    "\n",
    "llm = ChatOpenAI(temperature=.7, model_name=\"gpt-3.5-turbo\", max_tokens=1500)\n"
   ]
  },
  {
   "cell_type": "code",
   "execution_count": 7,
   "id": "87555a6e-2125-45c4-b087-2052dd61d93a",
   "metadata": {},
   "outputs": [],
   "source": [
    "def relevance_score_fn(score:float) -> float:\n",
    "    \"\"\"Returns similarity score on scale [0,1]\"\"\"\n",
    "    return 1.0 - score/ math.sqrt(2)"
   ]
  },
  {
   "cell_type": "code",
   "execution_count": 9,
   "id": "ce815bf7-6355-437b-a376-0dfae8129ef2",
   "metadata": {},
   "outputs": [],
   "source": [
    "from dotenv import load_dotenv\n",
    "load_dotenv()\n",
    "# os.environ[\"AZURE_OPENAI_API_KEY\"] = os.getenv(\"AZURE_KEY\")\n",
    "# os.environ[\"AZURE_OPENAI_ENDPOINT\"] = os.getenv(\"AZURE_ENDPOINT\")\n",
    "# os.environ[\"api_key\"] = os.getenv(\"AZURE_KEY\")\n",
    "\n",
    "#from langchain_openai import AzureOpenAIEmbeddings\n",
    "\n",
    "\n",
    "\n",
    "def create_new_memory_retriever():\n",
    "    \"\"\" Create new vector store retriever unique to the agent \"\"\"\n",
    "    # embeddings_model = AzureOpenAIEmbeddings(\n",
    "    #                 azure_deployment=os.getenv(\"AZURE_DEP_NAME\"),\n",
    "    #                 openai_api_version=os.getenv(\"AZURE_VERSION\"),\n",
    "    #                 openai_api_key = os.getenv(\"AZURE_KEY\"),\n",
    "    #                 azure_endpoint = os.getenv(\"AZURE_ENDPOINT\")\n",
    "    # )\n",
    "    embeddings_model = OpenAIEmbeddings(openai_api_key=os.getenv(\"OPENAI_API_KEY\"))\n",
    "    \n",
    "    embedding_size = 1536\n",
    "    index = faiss.IndexFlatL2(embedding_size)\n",
    "    vectorstore = FAISS(embeddings_model.embed_query, index, InMemoryDocstore({}), {}, relevance_score_fn=relevance_score_fn)\n",
    "    return TimeWeightedVectorStoreRetriever(vectorstore=vectorstore, other_score_keys=[\"importance\"], k=15)\n",
    "\n",
    "\n",
    "#create_new_memory_retriever()\n"
   ]
  },
  {
   "cell_type": "code",
   "execution_count": 10,
   "id": "f563c22d-434a-4de2-a657-422b7f9d2733",
   "metadata": {},
   "outputs": [
    {
     "name": "stdout",
     "output_type": "stream",
     "text": [
      "0b096d64907e4f788295bf459d4757fa\n"
     ]
    }
   ],
   "source": [
    "\n",
    "from dotenv import load_dotenv\n",
    "load_dotenv()\n",
    "\n",
    "os.environ[\"AZURE_OPENAI_API_KEY\"] = os.getenv(\"AZURE_KEY\")\n",
    "os.environ[\"AZURE_OPENAI_ENDPOINT\"] = os.getenv(\"AZURE_ENDPOINT\")\n",
    "\n",
    "os.environ[\"api_key\"] = os.getenv(\"AZURE_KEY\")\n",
    "\n",
    "print(os.getenv(\"AZURE_KEY\"))\n",
    "\n",
    "from langchain_openai import AzureOpenAIEmbeddings\n",
    "\n",
    "\n",
    "embeddings_model = AzureOpenAIEmbeddings(\n",
    "                    azure_deployment=os.getenv(\"AZURE_DEP_NAME\"),\n",
    "                    openai_api_version=os.getenv(\"AZURE_VERSION\"),\n",
    "                    openai_api_key = os.getenv(\"AZURE_KEY\"),\n",
    "                    azure_endpoint = os.getenv(\"AZURE_ENDPOINT\"),\n",
    "                    model = \"gpt-35-turbo-16k\"\n",
    "    )\n",
    "\n",
    "\n",
    "\n"
   ]
  },
  {
   "cell_type": "code",
   "execution_count": 11,
   "id": "af2030b7-f2cb-4ad6-8303-8b84726ce409",
   "metadata": {},
   "outputs": [
    {
     "name": "stderr",
     "output_type": "stream",
     "text": [
      "/home/oem/workspace/envs/langchain-env/lib/python3.10/site-packages/langchain_core/_api/deprecation.py:119: LangChainDeprecationWarning: The class `OpenAIEmbeddings` was deprecated in LangChain 0.0.9 and will be removed in 0.3.0. An updated version of the class exists in the langchain-openai package and should be used instead. To use it run `pip install -U langchain-openai` and import as `from langchain_openai import OpenAIEmbeddings`.\n",
      "  warn_deprecated(\n"
     ]
    }
   ],
   "source": [
    "alexis_memory = GenerativeAgentMemory(llm=llm,\n",
    "                                      memory_retriever=create_new_memory_retriever(),\n",
    "                                      verbose=False,\n",
    "                                      reflection_threshold=8)"
   ]
  },
  {
   "cell_type": "code",
   "execution_count": 12,
   "id": "abfe3565-c018-41ba-bc4a-9fffa58e8dfe",
   "metadata": {},
   "outputs": [],
   "source": [
    "alexis = GenerativeAgent(\n",
    "    name=\"Alexis\",\n",
    "    age=30,\n",
    "    traits = \"curious, creative writer, world traveller\",\n",
    "    status= \"exploring the intersection of technology and storytelling\",\n",
    "    memory_retriever = create_new_memory_retriever(),\n",
    "    llm=llm,\n",
    "    memory = alexis_memory,\n",
    ")"
   ]
  },
  {
   "cell_type": "code",
   "execution_count": 13,
   "id": "4d009c3a-ec0c-4f25-82c6-8ce8192aac32",
   "metadata": {},
   "outputs": [
    {
     "name": "stdout",
     "output_type": "stream",
     "text": [
      "Name: Alexis (age: 30)\n",
      "Innate traits: curious, creative writer, world traveller\n",
      "Alexis is confident, driven, and ambitious. She is a natural leader who is highly organized and goal-oriented. She is also empathetic and caring, always willing to help others in need.\n"
     ]
    }
   ],
   "source": [
    "print(alexis.get_summary())"
   ]
  },
  {
   "cell_type": "code",
   "execution_count": 15,
   "id": "e3372f93-53af-45d1-ac5d-0dd2d2a6acb4",
   "metadata": {},
   "outputs": [
    {
     "name": "stdout",
     "output_type": "stream",
     "text": [
      "Name: Alexis (age: 30)\n",
      "Innate traits: curious, creative writer, world traveller\n",
      "Alexis is reflective, goal-oriented, enjoys art and nature, values friendships, looks forward to new experiences, and is open to learning new things.\n"
     ]
    }
   ],
   "source": [
    "alexis_observations = [\n",
    "    \"Alexis recalls her morning walk in the park\",\n",
    "    \"Alexis feels excited about the new book she started reading\",\n",
    "    \"Alexis remembers her conversation with a close friend\",\n",
    "    \"Alexis thinks about the painting she saw at the art gallery\",\n",
    "    \"Alexis is planning to learn a new recipe for dinner\",\n",
    "    \"Alexis is lookin forward to her weekend trip\",\n",
    "    \"Alexis contemplates her goals for the month.\"\n",
    "]\n",
    "\n",
    "for observation in alexis_observations:\n",
    "    alexis.memory.add_memory(observation)\n",
    "\n",
    "print(alexis.get_summary(force_refresh=True))"
   ]
  },
  {
   "cell_type": "code",
   "execution_count": 16,
   "id": "14555b28-baa9-423e-a929-47827481392f",
   "metadata": {},
   "outputs": [],
   "source": [
    "def interview_agent(agent: GenerativeAgent, message: str) -> str:\n",
    "    \"\"\" Help the notebook user interact with the agent \"\"\"\n",
    "    new_message = \"{0} says {1}\".format(USER_NAME, message)\n",
    "    return agent.generate_dialogue_response(new_message)[1]\n",
    "    "
   ]
  },
  {
   "cell_type": "code",
   "execution_count": 17,
   "id": "1e2055fc-2fc6-4f10-b212-b7b7d2e43451",
   "metadata": {},
   "outputs": [
    {
     "data": {
      "text/plain": [
       "'Alexis said \"I enjoy writing, traveling, exploring art galleries, and spending time in nature. How about you, Deepak? What do you like to do?\"'"
      ]
     },
     "execution_count": 17,
     "metadata": {},
     "output_type": "execute_result"
    }
   ],
   "source": [
    "interview_agent(alexis, \"What do you like to do?\")"
   ]
  },
  {
   "cell_type": "code",
   "execution_count": 18,
   "id": "57dfda50-0cc2-461d-a907-299db951f7ae",
   "metadata": {},
   "outputs": [],
   "source": [
    "alexis_observations_day = [\n",
    "    \"Alexis starts her day with a refreshing yoga session.\",\n",
    "    \"Alexis spends her time writing in her journal.\",\n",
    "    \"Alexis experiments with a new recipe she found online.\"\n",
    "]\n",
    "\n",
    "for observation in alexis_observations_day:\n",
    "    alexis.memory.add_memory(observation)"
   ]
  },
  {
   "cell_type": "code",
   "execution_count": 25,
   "id": "405d8d9d-9d14-4780-bf33-113c71336bd1",
   "metadata": {},
   "outputs": [
    {
     "name": "stdout",
     "output_type": "stream",
     "text": [
      "\u001b[32mAlexis starts her day with a refreshing yoga session.\u001b[0m Alexis smiles and feels refreshed after her yoga session, ready to start her day.\n",
      "\u001b[32mAlexis spends her time writing in her journal.\u001b[0m Alexis feels inspired and reflective as she writes in her journal.\n",
      "\u001b[32mAlexis experiments with a new recipe she found online.\u001b[0m Alexis feels excited to try out the new recipe she found online.\n",
      "****************************************\n",
      "\u001b[34mAfter these pbservations, Alexis's Summary is :\n",
      " Name: Alexis (age: 30)\n",
      "Innate traits: curious, creative writer, world traveller\n",
      "Alexis is a reflective and creative individual who enjoys writing in her journal, starting her day with yoga to feel refreshed, and trying out new recipes. She values experiences like spending time in nature, visiting art galleries, and going on weekend trips. Alexis is goal-oriented, contemplates her goals for the month, and enjoys engaging in meaningful conversations with others.\u001b[0m\n",
      "****************************************\n"
     ]
    }
   ],
   "source": [
    "from termcolor import colored\n",
    "for i, obeservation in enumerate(alexis_observations_day):\n",
    "    _, reaction = alexis.generate_reaction(obeservation)\n",
    "    print(colored(obeservation, \"green\"), reaction)\n",
    "    if ((i+1) % len(alexis_observations_day)) == 0:\n",
    "        print(\"*\" * 40)\n",
    "        print(colored(\"After these observations, Alexis's Summary is :\\n {0}\".format(alexis.get_summary(force_refresh=True)), \"blue\"))\n",
    "        print(\"*\" * 40)"
   ]
  },
  {
   "cell_type": "code",
   "execution_count": 27,
   "id": "6e967cf2-6660-4f52-938c-123371cb8382",
   "metadata": {},
   "outputs": [],
   "source": [
    "jordan = GenerativeAgent(\n",
    "    name=\"Jordan\",\n",
    "    age=28,\n",
    "    traits = \"tech enthuist, avid gamer, foodie\",\n",
    "    status= \"navigating the world of tech startups\",\n",
    "    memory_retriever = create_new_memory_retriever(),\n",
    "    llm=llm,\n",
    "    memory = alexis_memory,\n",
    ")"
   ]
  },
  {
   "cell_type": "code",
   "execution_count": 28,
   "id": "73870f69-7908-4f59-a8a8-74d7674a6921",
   "metadata": {},
   "outputs": [
    {
     "name": "stdout",
     "output_type": "stream",
     "text": [
      "Name: Jordan (age: 28)\n",
      "Innate traits: tech enthuist, avid gamer, foodie\n",
      "Jordan is a skilled gamer and coder, enjoys exploring new restaurants, and is actively involved in various hobbies and activities. Alexis is reflective, enjoys writing and yoga, appreciates art and nature, and is focused on setting and achieving goals.\n"
     ]
    }
   ],
   "source": [
    "jordan_observations = [\n",
    "    \"Jordan finished challenging coding project last night\",\n",
    "    \"Jordan won local gaming tournament over the weekend\",\n",
    "    \"Jordan tried new south indian restaurant and loved it\"\n",
    "    \n",
    "]\n",
    "\n",
    "for observation in jordan_observations:\n",
    "    jordan.memory.add_memory(observation)\n",
    "\n",
    "print(jordan.get_summary(force_refresh=True))"
   ]
  },
  {
   "cell_type": "code",
   "execution_count": 29,
   "id": "9bd4eebd-c113-47ba-8f32-1c0f8d70e3c5",
   "metadata": {},
   "outputs": [],
   "source": [
    "def run_conversation(agents: List[GenerativeAgent], initial_observation: str) -> None:\n",
    "    \"\"\" Runs conversation between agents \"\"\"\n",
    "    _, observation = agents[1].generate_reaction(initial_observation)\n",
    "    print(observation)\n",
    "    max_turns = 3\n",
    "    turn = 0\n",
    "    while turn<=max_turns:\n",
    "        break_dialogue = False\n",
    "        for agent in agents:\n",
    "            stay_in_dialogue, observation = agent.generate_dialogue_response(observation)\n",
    "            print(observation)\n",
    "            # observation = \"{0} said {1}\".format(agent.name, reaction)\n",
    "            if not stay_in_dialogue:\n",
    "                break_dialogue = True\n",
    "        if break_dialogue:\n",
    "            break\n",
    "        turn +=1"
   ]
  },
  {
   "cell_type": "code",
   "execution_count": 31,
   "id": "8ec6b2e4-70a9-4aa9-8572-378f887fc94c",
   "metadata": {},
   "outputs": [
    {
     "name": "stdout",
     "output_type": "stream",
     "text": [
      "Jordan said \"I'd love to discuss that with you! Let's set up a time to chat about it.\"\n",
      "Alexis said \"That sounds great! I'll message you to coordinate a time. Looking forward to our discussion! Have a wonderful day!\"\n",
      "Jordan said \"Great! Looking forward to it. Have a wonderful day!\"\n",
      "Alexis said \"It was great chatting with you, Jordan! Have a wonderful day!\"\n",
      "Jordan said \"It was great chatting with you, Alexis! Have a wonderful day!\"\n"
     ]
    }
   ],
   "source": [
    "agents = [alexis, jordan]\n",
    "ini_conversation = \"Alexis said: Hey Jordan, I have been exploring how technology influence creativity lately. Since you are into tech, I was wondering if you have seen something that can help me to undersatand.\"\n",
    "run_conversation(agents, ini_conversation)"
   ]
  },
  {
   "cell_type": "code",
   "execution_count": 32,
   "id": "3881b4e9-c2fa-415f-b61b-91f64c5c13a2",
   "metadata": {},
   "outputs": [
    {
     "data": {
      "text/plain": [
       "'Alexis said \"I had a great discussion with Jordan about how technology influences creativity. We\\'re planning to dive deeper into the topic soon. How about you, Deepak? What have you been up to lately?\"'"
      ]
     },
     "execution_count": 32,
     "metadata": {},
     "output_type": "execute_result"
    }
   ],
   "source": [
    "interview_agent(alexis, \"What was your conversation with Jordan?\")"
   ]
  },
  {
   "cell_type": "code",
   "execution_count": 33,
   "id": "2c478b46-5b28-4521-8151-3a704004a035",
   "metadata": {},
   "outputs": [
    {
     "data": {
      "text/plain": [
       "'Jordan said \"It was great chatting with Alexis! Have a wonderful day!\"'"
      ]
     },
     "execution_count": 33,
     "metadata": {},
     "output_type": "execute_result"
    }
   ],
   "source": [
    "interview_agent(jordan, \"What was your conversation with Alexis?\")"
   ]
  },
  {
   "cell_type": "code",
   "execution_count": 35,
   "id": "1b93b7c5-8b29-4613-b32a-d63d2499be4d",
   "metadata": {},
   "outputs": [
    {
     "name": "stdout",
     "output_type": "stream",
     "text": [
      "Trivia Question :: Who is father of AI?\n",
      "Alexis's Answer:: Alexis said \"I'm not sure who the Father of AI is, but I'm always curious to learn more about the pioneers in the field. Do you have any insights on this topic?\"\n",
      "Jordan's Answer:: Jordan said \"I'm not sure who the Father of AI is, but I'm always curious to learn more about the pioneers in the field. Do you have any insights on this topic?\"\n",
      "Trivia Question :: What is the capital of India?\n",
      "Alexis's Answer:: Alexis said \"I believe the capital of India is New Delhi. It's a vibrant city with a rich history and culture.\"\n",
      "Jordan's Answer:: Jordan said \"I believe the capital of India is New Delhi. It's a vibrant city with a rich history and culture.\"\n",
      "Trivia Question :: Where is Burj Khalifa?\n",
      "Alexis's Answer:: Alexis said \"I believe the Burj Khalifa is located in Dubai, United Arab Emirates. It's known for being the tallest building in the world and a popular tourist attraction.\"\n",
      "Jordan's Answer:: Jordan said \"I believe the Burj Khalifa is located in Dubai, United Arab Emirates. It's known for being the tallest building in the world and a popular tourist attraction.\"\n"
     ]
    }
   ],
   "source": [
    "def run_competitive_trivia(agents: List[GenerativeAgent], questions: list[str]) -> None:\n",
    "    for question in questions:\n",
    "        print(\"Trivia Question :: {0}\".format(question))\n",
    "        for agent in agents:\n",
    "            response = agent.generate_dialogue_response(question)[1]\n",
    "            print(\"{0}'s Answer:: {1}\".format(agent.name, response))\n",
    "\n",
    "\n",
    "agents = [alexis, jordan]\n",
    "questions = [\n",
    "    \"Who is father of AI?\",\n",
    "    \"What is the capital of India?\",\n",
    "    \"Where is Burj Khalifa?\"\n",
    "]\n",
    "run_competitive_trivia(agents, questions)"
   ]
  },
  {
   "cell_type": "code",
   "execution_count": 37,
   "id": "03481fb1-c841-403c-8fe5-3be090afe9a7",
   "metadata": {},
   "outputs": [],
   "source": [
    "from langchain.schema import (\n",
    "    AIMessage,\n",
    "    HumanMessage,\n",
    "    SystemMessage\n",
    ")\n",
    "\n",
    "class DialogueAgent:\n",
    "    def __init__(\n",
    "        self,\n",
    "        name: str,\n",
    "        system_message: SystemMessage,\n",
    "        model: ChatOpenAI,\n",
    "    )-> None:\n",
    "        self.name = name\n",
    "        self.system_message = system_message\n",
    "        self.model = model\n",
    "        self.prefix = \"{0}: \".format(self.name)\n",
    "        self.reset()\n",
    "    def reset(self) -> str:\n",
    "        self.message_history = [\"Here is the conversation so far\"]\n",
    "\n",
    "    def send(self) -> str:\n",
    "        \"\"\"\n",
    "        Applied the chatmodel to the message history\n",
    "        and return the message string\n",
    "        \"\"\"\n",
    "        message = self.model(\n",
    "            [\n",
    "                self.system_message,\n",
    "                HumanMessage(content=\"\\n\".join(self.message_history + [self.prefix])),\n",
    "            ]\n",
    "        )\n",
    "        return message.content\n",
    "    def receive(self, name: str, message: str) -> None:\n",
    "        \"\"\"\n",
    "        Concatenate {message} spoken by {name} into message history\n",
    "        \"\"\"\n",
    "        self.message_history.append(\"{0}: {1}\".format(name, message))\n",
    "        \n",
    "\n"
   ]
  },
  {
   "cell_type": "code",
   "execution_count": null,
   "id": "4d718bee-ae2c-442a-9c2d-5df8748cf979",
   "metadata": {},
   "outputs": [],
   "source": [
    "class DialogueSimulator:\n",
    "    def __init__(\n",
    "        self,\n",
    "        agents: List[DialogueAgent],\n",
    "        selection_function = Callable[[init, List[DialogueAgent]], int],\n",
    "    ) -> None:\n",
    "        self.agents = agents\n",
    "        self._step = 0\n",
    "        "
   ]
  }
 ],
 "metadata": {
  "kernelspec": {
   "display_name": "Python 3 (ipykernel)",
   "language": "python",
   "name": "python3"
  },
  "language_info": {
   "codemirror_mode": {
    "name": "ipython",
    "version": 3
   },
   "file_extension": ".py",
   "mimetype": "text/x-python",
   "name": "python",
   "nbconvert_exporter": "python",
   "pygments_lexer": "ipython3",
   "version": "3.10.12"
  }
 },
 "nbformat": 4,
 "nbformat_minor": 5
}
